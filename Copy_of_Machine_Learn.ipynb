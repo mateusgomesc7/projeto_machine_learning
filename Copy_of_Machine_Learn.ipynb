{
  "nbformat": 4,
  "nbformat_minor": 0,
  "metadata": {
    "colab": {
      "name": "Copy of Machine Learn.ipynb",
      "provenance": [],
      "collapsed_sections": [
        "bsnJzMOcLRl-",
        "sRvAcOECXYHo",
        "HmUdvUka90wl",
        "gJPPh5TK-lmj",
        "bV013XRW_ziC",
        "0hYU5ZZA-EvZ",
        "Jtvikb0W-IeQ"
      ],
      "include_colab_link": true
    },
    "kernelspec": {
      "name": "python3",
      "display_name": "Python 3"
    }
  },
  "cells": [
    {
      "cell_type": "markdown",
      "metadata": {
        "id": "view-in-github",
        "colab_type": "text"
      },
      "source": [
        "<a href=\"https://colab.research.google.com/github/mateusgomesc7/projeto_machine_learning/blob/master/Copy_of_Machine_Learn.ipynb\" target=\"_parent\"><img src=\"https://colab.research.google.com/assets/colab-badge.svg\" alt=\"Open In Colab\"/></a>"
      ]
    },
    {
      "cell_type": "markdown",
      "metadata": {
        "id": "bsnJzMOcLRl-",
        "colab_type": "text"
      },
      "source": [
        "# Importando as Bibliotecas\n"
      ]
    },
    {
      "cell_type": "code",
      "metadata": {
        "id": "pbqW_9fJwjS5",
        "colab_type": "code",
        "colab": {}
      },
      "source": [
        "import pandas as pd\n",
        "import numpy as np\n",
        "import matplotlib.pyplot as plot\n",
        "\n",
        "from sklearn.model_selection import train_test_split\n",
        "from sklearn import metrics\n",
        "from sklearn import tree\n",
        "from sklearn.neighbors import KNeighborsClassifier\n",
        "from sklearn.cluster import KMeans\n",
        "\n",
        "url_abalone = \"https://raw.githubusercontent.com/mateusgomesc7/projeto_machine_learning/master/abalone.data\"\n",
        "url_iris = \"https://raw.githubusercontent.com/tmoura/machinelearning/master/iris.data\"\n",
        "url_poker = \"https://raw.githubusercontent.com/mateusgomesc7/projeto_machine_learning/master/poker-teste.data\"\n",
        "# url_poker = \"https://raw.githubusercontent.com/mateusgomesc7/projeto_machine_learning/master/poker-treinamento.data\"\n",
        "\n",
        "url_cmc= \"https://raw.githubusercontent.com/mateusgomesc7/projeto_machine_learning/master/cmc.data\"\n",
        "url_connect = \"https://raw.githubusercontent.com/mateusgomesc7/projeto_machine_learning/master/connect-4.data\""
      ],
      "execution_count": 0,
      "outputs": []
    },
    {
      "cell_type": "markdown",
      "metadata": {
        "id": "sRvAcOECXYHo",
        "colab_type": "text"
      },
      "source": [
        "#Funções"
      ]
    },
    {
      "cell_type": "code",
      "metadata": {
        "id": "5_lVMg2FXiJ6",
        "colab_type": "code",
        "colab": {}
      },
      "source": [
        "def criar_colunas(quant,opcao=True):\n",
        "  col_names = []\n",
        "  feature_cols = []\n",
        "\n",
        "  if (opcao):\n",
        "    col_names.append(\"label\")\n",
        "    for i in range(quant):\n",
        "      col_names.append(\"x{}\".format(i+1))\n",
        "      feature_cols.append(\"x{}\".format(i+1))\n",
        "  else:\n",
        "    for i in range(quant):\n",
        "      col_names.append(\"x{}\".format(quant-i))\n",
        "      feature_cols.append(\"x{}\".format(quant-i))\n",
        "\n",
        "    col_names.append(\"label\")\n",
        "    \n",
        "  return col_names, feature_cols\n",
        "\n",
        "def trocar_letras_por_numeros(elemento_de_genero):\n",
        "  # Trocar I, M, F por 1, 2, 3 repesctivamente\n",
        "  for idx, item in enumerate(elemento_de_genero):\n",
        "    if elemento_de_genero.iloc[idx] == 'I':\n",
        "      elemento_de_genero.iloc[idx] = 1\n",
        "    elif elemento_de_genero.iloc[idx] == 'M':\n",
        "      elemento_de_genero.iloc[idx] = 2\n",
        "    elif elemento_de_genero.iloc[idx] == 'F':\n",
        "      elemento_de_genero.iloc[idx] = 3\n",
        "\n",
        "def arvore_de_decisao(X_train, X_test, y_train, y_test):\n",
        "  # Treinamendo da Árvore de Decisão\n",
        "  model = tree.DecisionTreeClassifier(criterion=\"entropy\")\n",
        "  #Train the model using the training sets\n",
        "  model = model.fit(X_train, y_train)\n",
        "  # Predição e Resultados\n",
        "  result = model.predict(X_test)\n",
        "  acc = metrics.accuracy_score(result, y_test)\n",
        "  show = acc * 100\n",
        "\n",
        "  return show\n",
        "\n",
        "def knn(X_train, X_test, y_train, y_test, k):\n",
        "  #Create KNN Classifier\n",
        "  knn = KNeighborsClassifier(n_neighbors=k)\n",
        "  #Train the model using the training sets\n",
        "  knn.fit(X_train, y_train)\n",
        "  #Predict the response for test dataset\n",
        "  y_pred = knn.predict(X_test)\n",
        "\n",
        "  acc = metrics.accuracy_score(y_pred, y_test)\n",
        "  show = acc * 100\n",
        "\n",
        "  return show\n",
        "\n",
        "def kmeans(X, y, quant_clesters):\n",
        "\n",
        "  kmeans = KMeans(n_clusters=quant_clesters, random_state = 0)\n",
        "\n",
        "  kmeans.fit(X)\n",
        "\n",
        "  y_pred = kmeans.labels_\n",
        "\n",
        "  acc = metrics.accuracy_score(y_pred, y)\n",
        "  show = acc * 100\n",
        "\n",
        "  return show\n"
      ],
      "execution_count": 0,
      "outputs": []
    },
    {
      "cell_type": "markdown",
      "metadata": {
        "id": "HmUdvUka90wl",
        "colab_type": "text"
      },
      "source": [
        "#DataSet"
      ]
    },
    {
      "cell_type": "code",
      "metadata": {
        "id": "DM3kev_cPDmk",
        "colab_type": "code",
        "outputId": "2263ea5b-7349-4503-a436-73fb7ceed2f3",
        "colab": {
          "base_uri": "https://localhost:8080/",
          "height": 128
        }
      },
      "source": [
        "#ABALONE\n",
        "col_names_abalone, feature_cols_abalone = criar_colunas(8, False)\n",
        "dataset_abalone = pd.read_csv(url_abalone, header=None, names=col_names_abalone)\n",
        "trocar_letras_por_numeros(dataset_abalone[feature_cols_abalone[0]])\n",
        "\n",
        "#IRIS\n",
        "col_names_iris, feature_cols_iris = criar_colunas(4)\n",
        "dataset_iris = pd.read_csv(url_iris, header=None, names=col_names_iris)\n",
        "\n",
        "#POKER\n",
        "col_names_poker, feature_cols_poker = criar_colunas(10, False)\n",
        "dataset_poker = pd.read_csv(url_poker, header=None, names=col_names_poker)\n",
        "\n",
        "#CMC\n",
        "col_names_cmc, feature_cols_cmc = criar_colunas(9, False)\n",
        "dataset_cmc = pd.read_csv(url_cmc, header=None, names=col_names_cmc)\n",
        "\n",
        "#CONNECT\n",
        "col_names_connect, feature_cols_connect = criar_colunas(42, False)\n",
        "dataset_connect = pd.read_csv(url_connect, header=None, names=col_names_connect)\n",
        "\n",
        "\n",
        "X_abalone = dataset_abalone[feature_cols_abalone] # Atributos (Features)\n",
        "y_abalone = dataset_abalone.label # Saída\n",
        "\n",
        "X_iris = dataset_iris[feature_cols_iris] # Atributos (Features)\n",
        "y_iris = dataset_iris.label # Saída\n",
        "\n",
        "X_poker = dataset_poker[feature_cols_poker] # Atributos (Features)\n",
        "y_poker = dataset_poker.label # Saída\n",
        "\n",
        "X_cmc = dataset_cmc[feature_cols_cmc] # Atributos (Features)\n",
        "y_cmc = dataset_cmc.label # Saída\n",
        "\n",
        "X_connect = dataset_connect[feature_cols_connect] # Atributos (Features)\n",
        "y_connect = dataset_connect.label # Saída\n"
      ],
      "execution_count": 0,
      "outputs": [
        {
          "output_type": "stream",
          "text": [
            "/usr/local/lib/python3.6/dist-packages/pandas/core/indexing.py:205: SettingWithCopyWarning: \n",
            "A value is trying to be set on a copy of a slice from a DataFrame\n",
            "\n",
            "See the caveats in the documentation: http://pandas.pydata.org/pandas-docs/stable/user_guide/indexing.html#returning-a-view-versus-a-copy\n",
            "  self._setitem_with_indexer(indexer, value)\n"
          ],
          "name": "stderr"
        }
      ]
    },
    {
      "cell_type": "markdown",
      "metadata": {
        "id": "gJPPh5TK-lmj",
        "colab_type": "text"
      },
      "source": [
        "#Separação Treino e Teste"
      ]
    },
    {
      "cell_type": "code",
      "metadata": {
        "id": "wYPJXjuKYFmd",
        "colab_type": "code",
        "colab": {}
      },
      "source": [
        "X_train_abalone, X_test_abalone, y_train_abalone, y_test_abalone = train_test_split(X_abalone, y_abalone, test_size=0.2)\n",
        "X_train_iris, X_test_iris, y_train_iris, y_test_iris = train_test_split(X_iris, y_iris, test_size=0.2)\n",
        "X_train_poker, X_test_poker, y_train_poker, y_test_poker = train_test_split(X_poker, y_poker, test_size=0.2)\n",
        "X_train_cmc, X_test_cmc, y_train_cmc, y_test_cmc = train_test_split(X_cmc, y_cmc, test_size=0.2)\n",
        "X_train_connect, X_test_connect, y_train_connect, y_test_connect = train_test_split(X_connect, y_connect, test_size=0.2)\n"
      ],
      "execution_count": 0,
      "outputs": []
    },
    {
      "cell_type": "markdown",
      "metadata": {
        "id": "bV013XRW_ziC",
        "colab_type": "text"
      },
      "source": [
        "#Árvore de Decisão"
      ]
    },
    {
      "cell_type": "code",
      "metadata": {
        "id": "8haB2Tu54SiC",
        "colab_type": "code",
        "outputId": "425f7c25-cd7b-41ab-9338-e4f237f236b4",
        "colab": {
          "base_uri": "https://localhost:8080/",
          "height": 181
        }
      },
      "source": [
        "accuracy_ad_abalone = arvore_de_decisao(X_train_abalone, X_test_abalone, y_train_abalone, y_test_abalone)\n",
        "print(\"Abalone: {:0.2f}\".format(accuracy_ad_abalone))\n",
        "accuracy_ad_iris = arvore_de_decisao(X_train_iris, X_test_iris, y_train_iris, y_test_iris)\n",
        "print(\"\\nIRIS: {:0.2f}\".format(accuracy_ad_iris))\n",
        "accuracy_ad_poker = arvore_de_decisao(X_train_poker, X_test_poker, y_train_poker, y_test_poker)\n",
        "print(\"\\nPoker: {:0.2f}\".format(accuracy_ad_poker))\n",
        "accuracy_ad_cmc = arvore_de_decisao(X_train_cmc, X_test_cmc, y_train_cmc, y_test_cmc)\n",
        "print(\"\\nCMC: {:0.2f}\".format(accuracy_ad_cmc))\n",
        "accuracy_ad_connect = arvore_de_decisao(X_train_connect, X_test_connect, y_train_connect, y_test_connect)\n",
        "print(\"\\nCONNECT: {:0.2f}\".format(accuracy_ad_connect))"
      ],
      "execution_count": 0,
      "outputs": [
        {
          "output_type": "stream",
          "text": [
            "Abalone: 20.10\n",
            "\n",
            "IRIS: 96.67\n",
            "\n",
            "Poker: 64.46\n",
            "\n",
            "CMC: 49.15\n",
            "\n",
            "CONNECT: 73.05\n"
          ],
          "name": "stdout"
        }
      ]
    },
    {
      "cell_type": "markdown",
      "metadata": {
        "id": "1CZiV4FzPNUD",
        "colab_type": "text"
      },
      "source": [
        "#KNN"
      ]
    },
    {
      "cell_type": "markdown",
      "metadata": {
        "id": "0hYU5ZZA-EvZ",
        "colab_type": "text"
      },
      "source": [
        "##K = 5"
      ]
    },
    {
      "cell_type": "code",
      "metadata": {
        "id": "jsP0gRGUOH3K",
        "colab_type": "code",
        "outputId": "d446f460-3c4f-4b39-9509-c423957bcc02",
        "colab": {
          "base_uri": "https://localhost:8080/",
          "height": 181
        }
      },
      "source": [
        "accuracy_knn5_abalone = knn(X_train_abalone, X_test_abalone, y_train_abalone, y_test_abalone, 5)\n",
        "print(\"Abalone: {:0.2f}\".format(accuracy_knn_abalone))\n",
        "accuracy_knn5_iris = knn(X_train_iris, X_test_iris, y_train_iris, y_test_iris, 5)\n",
        "print(\"\\nIRIS: {:0.2f}\".format(accuracy_knn_iris))\n",
        "accuracy_knn5_poker = knn(X_train_poker, X_test_poker, y_train_poker, y_test_poker, 5)\n",
        "print(\"\\nPoker: {:0.2f}\".format(accuracy_knn_poker))\n",
        "accuracy_knn5_cmc = knn(X_train_cmc, X_test_cmc, y_train_cmc, y_test_cmc, 5)\n",
        "print(\"\\nCMC: {:0.2f}\".format(accuracy_knn_cmc))\n",
        "accuracy_knn5_connect = knn(X_train_connect, X_test_connect, y_train_connect, y_test_connect, 5)\n",
        "print(\"\\nCONNECT: {:0.2f}\".format(accuracy_knn_connect))"
      ],
      "execution_count": 0,
      "outputs": [
        {
          "output_type": "stream",
          "text": [
            "Abalone: 22.37\n",
            "\n",
            "IRIS: 93.33\n",
            "\n",
            "Poker: 61.72\n",
            "\n",
            "CMC: 57.29\n",
            "\n",
            "CONNECT: 74.44\n"
          ],
          "name": "stdout"
        }
      ]
    },
    {
      "cell_type": "markdown",
      "metadata": {
        "id": "Jtvikb0W-IeQ",
        "colab_type": "text"
      },
      "source": [
        "##K=10"
      ]
    },
    {
      "cell_type": "code",
      "metadata": {
        "id": "TIwrlmayOo8c",
        "colab_type": "code",
        "outputId": "1f7df0a7-eaf9-4ff1-d1a4-7d1d825be142",
        "colab": {
          "base_uri": "https://localhost:8080/",
          "height": 181
        }
      },
      "source": [
        "accuracy_knn10_abalone = knn(X_train_abalone, X_test_abalone, y_train_abalone, y_test_abalone, 10)\n",
        "print(\"Abalone: {:0.2f}\".format(accuracy_knn10_abalone))\n",
        "accuracy_knn10_iris = knn(X_train_iris, X_test_iris, y_train_iris, y_test_iris, 10)\n",
        "print(\"\\nIRIS: {:0.2f}\".format(accuracy_knn10_iris))\n",
        "accuracy_knn10_poker = knn(X_train_poker, X_test_poker, y_train_poker, y_test_poker, 10)\n",
        "print(\"\\nPoker: {:0.2f}\".format(accuracy_knn10_poker))\n",
        "accuracy_knn10_cmc = knn(X_train_cmc, X_test_cmc, y_train_cmc, y_test_cmc, 10)\n",
        "print(\"\\nCMC: {:0.2f}\".format(accuracy_knn10_cmc))\n",
        "accuracy_knn10_connect = knn(X_train_connect, X_test_connect, y_train_connect, y_test_connect, 10)\n",
        "print(\"\\nCONNECT: {:0.2f}\".format(accuracy_knn10_connect))"
      ],
      "execution_count": 0,
      "outputs": [
        {
          "output_type": "stream",
          "text": [
            "Abalone: 25.00\n",
            "\n",
            "IRIS: 100.00\n",
            "\n",
            "Poker: 62.99\n",
            "\n",
            "CMC: 58.98\n",
            "\n",
            "CONNECT: 77.08\n"
          ],
          "name": "stdout"
        }
      ]
    },
    {
      "cell_type": "markdown",
      "metadata": {
        "id": "qBU_CYloIhJc",
        "colab_type": "text"
      },
      "source": [
        "#MLP\n",
        "Escolha de duas arquiteturas diferentes\n",
        "\n",
        "\n",
        "\n",
        "\n",
        "\n",
        "\n",
        "\n",
        "\n",
        "\n"
      ]
    },
    {
      "cell_type": "markdown",
      "metadata": {
        "id": "7zD0gSQ75O24",
        "colab_type": "text"
      },
      "source": [
        "#K-Means\n",
        "K igual ao número de classes existente no problema\n",
        "\n",
        "\n",
        "\n"
      ]
    },
    {
      "cell_type": "code",
      "metadata": {
        "id": "su40xvqPM33D",
        "colab_type": "code",
        "outputId": "e3fa405d-bd8b-4022-ac99-9ce54a16f80b",
        "colab": {
          "base_uri": "https://localhost:8080/",
          "height": 181
        }
      },
      "source": [
        "accuracy_kmeans_abalone = kmeans(X_abalone, y_abalone, 15)\n",
        "print(\"Abalone: {:0.2f}\".format(accuracy_kmeans_abalone))\n",
        "accuracy_kmeans_iris = kmeans(X_iris, y_iris, 3)\n",
        "print(\"\\nIRIS: {:0.2f}\".format(accuracy_kmeans_iris))\n",
        "accuracy_kmeans_poker = kmeans(X_poker, y_poker, 10)\n",
        "print(\"\\nPoker: {:0.2f}\".format(accuracy_kmeans_poker))\n",
        "accuracy_kmeans_cmc = kmeans(X_cmc, y_cmc, 3)\n",
        "print(\"\\nCMC: {:0.2f}\".format(accuracy_kmeans_cmc))\n",
        "accuracy_kmeans_connect = kmeans(X_connect, y_connect, 3)\n",
        "print(\"\\nCONNECT: {:0.2f}\".format(accuracy_kmeans_connect))"
      ],
      "execution_count": 0,
      "outputs": [
        {
          "output_type": "stream",
          "text": [
            "Abalone: 7.25\n",
            "\n",
            "IRIS: 65.33\n",
            "\n",
            "Poker: 9.48\n",
            "\n",
            "CMC: 23.29\n",
            "\n",
            "CONNECT: 26.09\n"
          ],
          "name": "stdout"
        }
      ]
    },
    {
      "cell_type": "markdown",
      "metadata": {
        "id": "QZPevnrAvNJK",
        "colab_type": "text"
      },
      "source": [
        "#Comparação\n"
      ]
    },
    {
      "cell_type": "code",
      "metadata": {
        "id": "sYtsxR9pB8w6",
        "colab_type": "code",
        "colab": {}
      },
      "source": [
        "!pip install -q Texttable\n",
        "from texttable import Texttable"
      ],
      "execution_count": 0,
      "outputs": []
    },
    {
      "cell_type": "code",
      "metadata": {
        "id": "0Lr2E2STAlL3",
        "colab_type": "code",
        "outputId": "8eddedd4-5db8-40ce-b2c8-9607a5726775",
        "colab": {
          "base_uri": "https://localhost:8080/",
          "height": 254
        }
      },
      "source": [
        "t = Texttable()\n",
        "t.add_rows([\n",
        "            ['Name', 'Árvore de decisão', 'KNN 5', 'KNN 10', 'K-Means'], \n",
        "            ['IRIS', f'{accuracy_ad_iris:.2f}%', f'{accuracy_knn5_iris:.2f}%', f'{accuracy_knn10_iris:.2f}%', f'{accuracy_kmeans_iris:.2f}%'],\n",
        "            ['Abalone', f'{accuracy_ad_abalone:.2f}%', f'{accuracy_knn5_abalone:.2f}%', f'{accuracy_knn10_abalone:.2f}%', f'{accuracy_kmeans_abalone:.2f}%'],\n",
        "            ['POKER', f'{accuracy_ad_poker:.2f}%', f'{accuracy_knn5_poker:.2f}%', f'{accuracy_knn10_poker:.2f}%', f'{accuracy_kmeans_poker:.2f}%'],\n",
        "            ['CMC', f'{accuracy_ad_cmc:.2f}%', f'{accuracy_knn5_cmc:.2f}%', f'{accuracy_knn10_cmc:.2f}%', f'{accuracy_kmeans_cmc:.2f}%'],\n",
        "            ['CONNECT', f'{accuracy_ad_connect:.2f}%', f'{accuracy_knn5_connect:.2f}%', f'{accuracy_knn10_connect:.2f}%', f'{accuracy_kmeans_connect:.2f}%']\n",
        "          ])\n",
        "print(t.draw())"
      ],
      "execution_count": 0,
      "outputs": [
        {
          "output_type": "stream",
          "text": [
            "+---------+-------------------+--------+---------+---------+\n",
            "|  Name   | Árvore de decisão | KNN 5  | KNN 10  | K-Means |\n",
            "+=========+===================+========+=========+=========+\n",
            "| IRIS    | 96.67%            | 93.33% | 100.00% | 65.33%  |\n",
            "+---------+-------------------+--------+---------+---------+\n",
            "| Abalone | 20.10%            | 22.37% | 25.00%  | 7.25%   |\n",
            "+---------+-------------------+--------+---------+---------+\n",
            "| POKER   | 64.46%            | 61.72% | 62.99%  | 9.48%   |\n",
            "+---------+-------------------+--------+---------+---------+\n",
            "| CMC     | 49.15%            | 57.29% | 58.98%  | 23.29%  |\n",
            "+---------+-------------------+--------+---------+---------+\n",
            "| CONNECT | 73.05%            | 74.44% | 77.08%  | 26.09%  |\n",
            "+---------+-------------------+--------+---------+---------+\n"
          ],
          "name": "stdout"
        }
      ]
    },
    {
      "cell_type": "markdown",
      "metadata": {
        "id": "Ul66hVG7Ekev",
        "colab_type": "text"
      },
      "source": [
        "# <font color='black' style='font-size: 30px;'>Conclusão</font>\n",
        "<hr style='border: 2px solid red;'>\n",
        "\n",
        "> O trabalho realizado trouxe grandes experiências, uma nova visão de como usar a linguagem python, entretanto não só isto, mas como a aplicação dos métodos pode melhorar  de forma significante na aplicação de problemas no cotidiano.\n",
        "\n"
      ]
    },
    {
      "cell_type": "markdown",
      "metadata": {
        "id": "6tbaKw8YGRuF",
        "colab_type": "text"
      },
      "source": [
        "# <font color='purple' style='font-size: 30px;'>Minha Experiencia na realização do projeto</font>\n",
        "<hr style='border: 2px solid red;'>\n",
        "\n",
        "> Neste projeto em minhas pesquisas tive bastante dificuldade para achar materias de metodos numericos com python, creio que seja uma nova utlização, uma vez que a maior parte de calculo numerico é feito com matlab, pensando de forma mais ampla, os trabalhos realizados nesse projeto poderiam ser publicados em algum livro, feito pela turma, essa publicação poderia ser feito pelo ifpb mesmo, outra forma seria artigos. \n",
        "\n",
        "\n",
        "> A exposição do material poderia servir para turmas futuras e como base para outros colegas que precisam do material, uma vez que eu e outros colegas sentimos faltas de mais algumas informações na internet mesmo, precisando trabalhar juntos, tirando duvidas e construindo uma logica para que pudesse ser realizado o projeto.\n",
        "\n",
        "\n",
        "\n",
        "\n",
        "\n"
      ]
    }
  ]
}